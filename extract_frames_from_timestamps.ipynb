{
 "cells": [
  {
   "cell_type": "code",
   "execution_count": 1,
   "metadata": {},
   "outputs": [
    {
     "name": "stdout",
     "output_type": "stream",
     "text": [
      "Frames extracted and saved in 'C:/Users/DELL/Desktop/ctrlS nagpur/SAM model/solar_sam_project/soiling levels dataset/YOLO SEG_CLASSIFY/solar_panels_dataset/medoum soiled new'\n"
     ]
    }
   ],
   "source": [
    "import cv2\n",
    "import os\n",
    "\n",
    "# Path to the video file\n",
    "video_path = \"C:/Users/DELL/Desktop/ctrlS nagpur/march dataset/medium soiled march 1/01-03-2025_medium-soiled_DJI_0940_W.MP4\"  # Change this to your video file\n",
    "output_folder = \"C:/Users/DELL/Desktop/ctrlS nagpur/SAM model/solar_sam_project/soiling levels dataset/YOLO SEG_CLASSIFY/solar_panels_dataset/medoum soiled new\"\n",
    "\n",
    "\n",
    "# Ensure output directory exists\n",
    "os.makedirs(output_folder, exist_ok=True)\n",
    "\n",
    "# Timestamps (start_time, end_time) in minutes:seconds format\n",
    "timestamp_ranges = [\n",
    "    (0.07, 0.32), (1.06, 1.16), (0.17, 1.42), (1.51, 2.16), (2.55, 3.00),\n",
    "    (3.01, 3.26), (3.35, 3.50), (4.43, 5.09), (5.17, 5.41), (6.26, 6.51),\n",
    "    (7.00, 7.24), (8.07, 8.34), (8.43, 9.07), (9.51, 10.15), (10.39, 10.50)\n",
    "]\n",
    "\n",
    "# Convert timestamps to seconds\n",
    "time_ranges = [(round(start * 60, 2), round(end * 60, 2)) for start, end in timestamp_ranges]\n",
    "\n",
    "# Open video file\n",
    "cap = cv2.VideoCapture(video_path)\n",
    "fps = int(cap.get(cv2.CAP_PROP_FPS))  # Get the frames per second\n",
    "frame_count = 0\n",
    "required_frames = 200\n",
    "\n",
    "# Process each time range\n",
    "for start_sec, end_sec in time_ranges:\n",
    "    cap.set(cv2.CAP_PROP_POS_MSEC, start_sec * 1000)  # Move to start time\n",
    "    \n",
    "    frame_interval = max(1, int((end_sec - start_sec) * fps / (required_frames / len(time_ranges))))  # Dynamic interval\n",
    "\n",
    "    while cap.get(cv2.CAP_PROP_POS_MSEC) < end_sec * 1000:\n",
    "        ret, frame = cap.read()\n",
    "        if not ret:\n",
    "            break\n",
    "        \n",
    "        if frame_count % frame_interval == 0:  # Save frames at calculated interval\n",
    "            frame_filename = os.path.join(output_folder, f\"frame_{frame_count:04d}.jpg\")\n",
    "            cv2.imwrite(frame_filename, frame)\n",
    "        \n",
    "        frame_count += 1\n",
    "\n",
    "cap.release()\n",
    "print(f\"Frames extracted and saved in '{output_folder}'\")\n"
   ]
  },
  {
   "cell_type": "code",
   "execution_count": null,
   "metadata": {},
   "outputs": [],
   "source": []
  }
 ],
 "metadata": {
  "kernelspec": {
   "display_name": "base",
   "language": "python",
   "name": "python3"
  },
  "language_info": {
   "codemirror_mode": {
    "name": "ipython",
    "version": 3
   },
   "file_extension": ".py",
   "mimetype": "text/x-python",
   "name": "python",
   "nbconvert_exporter": "python",
   "pygments_lexer": "ipython3",
   "version": "3.12.7"
  }
 },
 "nbformat": 4,
 "nbformat_minor": 2
}
